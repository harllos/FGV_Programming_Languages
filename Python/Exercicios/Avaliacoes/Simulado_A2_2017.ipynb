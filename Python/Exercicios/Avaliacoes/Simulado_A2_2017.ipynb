{
 "cells": [
  {
   "cell_type": "markdown",
   "metadata": {},
   "source": [
    "Simulado da A2 de Linguagens de Programação – 17/11/2017\n",
    "--\n",
    "Professor: Renato Rocha Souza  \n",
    "--"
   ]
  },
  {
   "cell_type": "markdown",
   "metadata": {},
   "source": [
    "Nome do Aluno(a):"
   ]
  },
  {
   "cell_type": "code",
   "execution_count": 1,
   "metadata": {},
   "outputs": [
    {
     "name": "stdout",
     "output_type": "stream",
     "text": [
      "Entre com o seu nome completo: harllos\n",
      "Olá, harllos!\n",
      "Bom trabalho!\n"
     ]
    }
   ],
   "source": [
    "meu_nome = input('Entre com o seu nome completo: ')\n",
    "print('Olá, {}!'.format(meu_nome))\n",
    "print('Bom trabalho!')"
   ]
  },
  {
   "cell_type": "code",
   "execution_count": 3,
   "metadata": {},
   "outputs": [],
   "source": [
    "import numpy as np\n",
    "import matplotlib.pyplot as plt\n",
    "import requests\n",
    "import random\n",
    "import re\n",
    "import string\n",
    "import time\n",
    "import pymysql\n",
    "import sqlite3\n",
    "import getpass\n",
    "import pandas.io.sql as psql\n",
    "import networkx as nx\n",
    "from IPython.display import clear_output\n",
    "%matplotlib inline"
   ]
  },
  {
   "cell_type": "markdown",
   "metadata": {},
   "source": [
    "Questão 1 (2,0 pontos)  \n",
    "\n",
    "\n",
    "Utilizando Python, crie um banco de dados no sqlite que guarde a seguinte estrutura:\n",
    "\n",
    "\n",
    "| id (integer) | nome (text)    | data_nascimento (text)    | peso (real) | altura (real) | imc (real) | Gênero  (text) |\n",
    "|--------------|----------------|---------------------------|-------------|---------------|------------|----------------|\n",
    "| 1            | Anitta         | \"1980-10-10 00:00:00.000\" | 56          | 160           | 0          | POP            |\n",
    "| 2            | Caetano Veloso | \"1956-01-23 00:00:00.000\" | 57          | 165           | 0          | MBP            |\n",
    "| 3            | Roberto Carlos | \"1943-05-12 00:00:00.000\" | 69          | 172           | 0          | MPB            |\n",
    "| 4            | Ivete Sangalo  | \"1973-05-21 00:00:00.000\" | 60          | 170           | 0          | AXÉ            |\n",
    "| 5            | Wesley Safadão | \"1982-09-07 00:00:00.000\" | 77          | 181           | 0          | POP            |\n",
    "\n",
    "\n",
    "Após a estrutura gerada, crie um script que calcule e corrija o IMC da tabela pela fórmula:  \n",
    "\n",
    "\n",
    "$\\large IMC = \\frac{Peso}{Altura^{2}}$\n",
    "\n",
    "\n",
    "Veja: https://sqlite.org/datatype3.html  "
   ]
  },
  {
   "cell_type": "code",
   "execution_count": null,
   "metadata": {},
   "outputs": [],
   "source": []
  },
  {
   "cell_type": "code",
   "execution_count": 12,
   "metadata": {},
   "outputs": [],
   "source": [
    "conn = sqlite3.connect('cantores.db')\n",
    "cur = conn.cursor()\n",
    "\n"
   ]
  },
  {
   "cell_type": "code",
   "execution_count": 13,
   "metadata": {},
   "outputs": [
    {
     "name": "stderr",
     "output_type": "stream",
     "text": [
      "ERROR:root:An unexpected error occurred while tokenizing input\n",
      "The following traceback may be corrupted or invalid\n",
      "The error message is: ('EOF in multi-line string', (1, 88))\n",
      "\n"
     ]
    },
    {
     "ename": "OperationalError",
     "evalue": "table cantores already exists",
     "output_type": "error",
     "traceback": [
      "\u001b[0;31m---------------------------------------------------------------------------\u001b[0m",
      "\u001b[0;31mOperationalError\u001b[0m                          Traceback (most recent call last)",
      "\u001b[0;32m<ipython-input-13-d311dccc8719>\u001b[0m in \u001b[0;36m<module>\u001b[0;34m()\u001b[0m\n\u001b[1;32m      1\u001b[0m \u001b[0;31m#criando a tabela\u001b[0m\u001b[0;34m\u001b[0m\u001b[0;34m\u001b[0m\u001b[0m\n\u001b[1;32m      2\u001b[0m cur.execute('''CREATE TABLE cantores(id INTEGER PRIMARY KEY, nome TEXT,\n\u001b[0;32m----> 3\u001b[0;31m                        data_nascimento DATE, peso INT, altura INT, imc INT, genero TXT);''')\n\u001b[0m",
      "\u001b[0;31mOperationalError\u001b[0m: table cantores already exists"
     ]
    }
   ],
   "source": [
    "#criando a tabela\n",
    "cur.execute('''CREATE TABLE cantores(id INTEGER PRIMARY KEY, nome TEXT,\n",
    "                       data_nascimento DATE, peso INT, altura INT, imc INT, genero TXT);''')\n"
   ]
  },
  {
   "cell_type": "code",
   "execution_count": 14,
   "metadata": {
    "scrolled": true
   },
   "outputs": [
    {
     "ename": "IntegrityError",
     "evalue": "UNIQUE constraint failed: cantores.id",
     "output_type": "error",
     "traceback": [
      "\u001b[0;31m---------------------------------------------------------------------------\u001b[0m",
      "\u001b[0;31mIntegrityError\u001b[0m                            Traceback (most recent call last)",
      "\u001b[0;32m<ipython-input-14-d52a8d3e0f43>\u001b[0m in \u001b[0;36m<module>\u001b[0;34m()\u001b[0m\n\u001b[1;32m      5\u001b[0m              \u001b[0;34m(\u001b[0m\u001b[0;36m5\u001b[0m\u001b[0;34m,\u001b[0m\u001b[0;34m'Wesley Safadão'\u001b[0m\u001b[0;34m,\u001b[0m \u001b[0;36m1982\u001b[0m\u001b[0;34m-\u001b[0m\u001b[0;36m9\u001b[0m\u001b[0;34m-\u001b[0m\u001b[0;36m7\u001b[0m\u001b[0;34m,\u001b[0m\u001b[0;36m77\u001b[0m\u001b[0;34m,\u001b[0m\u001b[0;36m181\u001b[0m\u001b[0;34m,\u001b[0m\u001b[0;36m0\u001b[0m\u001b[0;34m,\u001b[0m\u001b[0;34m'POP'\u001b[0m\u001b[0;34m)\u001b[0m\u001b[0;34m\u001b[0m\u001b[0m\n\u001b[1;32m      6\u001b[0m             ]\n\u001b[0;32m----> 7\u001b[0;31m \u001b[0mcur\u001b[0m\u001b[0;34m.\u001b[0m\u001b[0mexecutemany\u001b[0m\u001b[0;34m(\u001b[0m\u001b[0;34m'INSERT INTO cantores VALUES (?,?,?,?,?,?,?)'\u001b[0m\u001b[0;34m,\u001b[0m \u001b[0mcantores\u001b[0m\u001b[0;34m)\u001b[0m\u001b[0;34m\u001b[0m\u001b[0m\n\u001b[0m",
      "\u001b[0;31mIntegrityError\u001b[0m: UNIQUE constraint failed: cantores.id"
     ]
    }
   ],
   "source": [
    "cantores = [(1,'Anitta', 1980-10-10, 56, 160, 0, 'POP'),\n",
    "             (2,'Caetano Veloso', 1956-1-23, 57, 165, 0, 'MBP'),\n",
    "             (3,'Roberto Carlos', 1943-5-12, 69, 172, 0, 'MPB'),\n",
    "             (4,'Ivete Sangalo', 1973-5-21, 60, 170, 0, 'AXÉ'),\n",
    "             (5,'Wesley Safadão', 1982-9-7,77,181,0,'POP')\n",
    "            ]\n",
    "cur.executemany('INSERT INTO cantores VALUES (?,?,?,?,?,?,?)', cantores)"
   ]
  },
  {
   "cell_type": "code",
   "execution_count": 15,
   "metadata": {},
   "outputs": [
    {
     "name": "stdout",
     "output_type": "stream",
     "text": [
      "(0, 'id', 'INTEGER', 0, None, 1)\n",
      "(1, 'nome', 'TEXT', 0, None, 0)\n",
      "(2, 'data_nascimento', 'DATE', 0, None, 0)\n",
      "(3, 'peso', 'INT', 0, None, 0)\n",
      "(4, 'altura', 'INT', 0, None, 0)\n",
      "(5, 'imc', 'INT', 0, None, 0)\n",
      "(6, 'genero', 'TXT', 0, None, 0)\n"
     ]
    }
   ],
   "source": [
    "for row in cur.execute(\"PRAGMA table_info([cantores]);\"):\n",
    "    print(row)"
   ]
  },
  {
   "cell_type": "code",
   "execution_count": 16,
   "metadata": {},
   "outputs": [
    {
     "name": "stdout",
     "output_type": "stream",
     "text": [
      "(1, 'Anitta', 1960, 56, 160, 0, 'POP')\n",
      "(2, 'Caetano Veloso', 1932, 57, 165, 0, 'MBP')\n",
      "(3, 'Roberto Carlos', 1926, 69, 172, 0, 'MPB')\n",
      "(4, 'Ivete Sangalo', 1947, 60, 170, 0, 'AXÉ')\n",
      "(5, 'Wesley Safadão', 1966, 77, 181, 0, 'POP')\n"
     ]
    }
   ],
   "source": [
    "for row in cur.execute(\"select * from cantores;\"):\n",
    "    print(row)"
   ]
  },
  {
   "cell_type": "code",
   "execution_count": 17,
   "metadata": {},
   "outputs": [
    {
     "name": "stdout",
     "output_type": "stream",
     "text": [
      "{'Wesley Safadão': 0.00235035560575074, 'Anitta': 0.0021875, 'Caetano Veloso': 0.00209366391184573, 'Roberto Carlos': 0.002332341806381828, 'Ivete Sangalo': 0.0020761245674740486}\n"
     ]
    }
   ],
   "source": [
    "q1 = '''select nome, peso, altura from cantores;'''\n",
    "\n",
    "imc = {}\n",
    "\n",
    "cur.execute(q1)\n",
    "res = cur.fetchall()\n",
    "for r in res:\n",
    "    imc[r[0]] = r[1]/(r[2]*r[2])\n",
    "    q2 = 'UPDATE cantores SET imc=' + str(imc[r[0]]) + ' WHERE nome is \\'' + str(r[0]) + '\\';'\n",
    "    cur.execute(q2)\n",
    "    \n",
    "\n",
    "print(imc)"
   ]
  },
  {
   "cell_type": "markdown",
   "metadata": {},
   "source": [
    "Questão 2 (2.0 pontos)  \n",
    "\n",
    "Conecte ao banco SQLite e responda:\n",
    "- Quantos artistas/bandas (artists) possuem nomes (Name) começando com a letra \"L\"?\n",
    "- Quais as 5 faixas (tracks) mais longas?\n",
    "- Quais são os nomes (Name) dos artistas (artists) que as gravaram?\n",
    "- Qual o gênero (Genre) que possui, em média, as faixas (tracks) mais longas?\n",
    "- Qual o gênero (Genre) que possui, em média, as faixas (tracks) mais caras?"
   ]
  },
  {
   "cell_type": "code",
   "execution_count": 22,
   "metadata": {},
   "outputs": [
    {
     "ename": "OperationalError",
     "evalue": "unable to open database file",
     "output_type": "error",
     "traceback": [
      "\u001b[0;31m---------------------------------------------------------------------------\u001b[0m",
      "\u001b[0;31mOperationalError\u001b[0m                          Traceback (most recent call last)",
      "\u001b[0;32m<ipython-input-22-78a769b5c567>\u001b[0m in \u001b[0;36m<module>\u001b[0;34m()\u001b[0m\n\u001b[0;32m----> 1\u001b[0;31m \u001b[0mconn\u001b[0m \u001b[0;34m=\u001b[0m \u001b[0msqlite3\u001b[0m\u001b[0;34m.\u001b[0m\u001b[0mconnect\u001b[0m\u001b[0;34m(\u001b[0m\u001b[0;34m'Dados/chinook.sqlite.db'\u001b[0m\u001b[0;34m)\u001b[0m\u001b[0;34m\u001b[0m\u001b[0m\n\u001b[0m\u001b[1;32m      2\u001b[0m \u001b[0mcur\u001b[0m \u001b[0;34m=\u001b[0m \u001b[0mconn\u001b[0m\u001b[0;34m.\u001b[0m\u001b[0mcursor\u001b[0m\u001b[0;34m(\u001b[0m\u001b[0;34m)\u001b[0m\u001b[0;34m\u001b[0m\u001b[0m\n\u001b[1;32m      3\u001b[0m \u001b[0;34m\u001b[0m\u001b[0m\n\u001b[1;32m      4\u001b[0m \u001b[0;31m# seu código aqui\u001b[0m\u001b[0;34m\u001b[0m\u001b[0;34m\u001b[0m\u001b[0m\n",
      "\u001b[0;31mOperationalError\u001b[0m: unable to open database file"
     ]
    }
   ],
   "source": [
    "conn = sqlite3.connect('Dados/chinook.sqlite.db')\n",
    "cur = conn.cursor()\n",
    "\n",
    "# seu código aqui"
   ]
  },
  {
   "cell_type": "code",
   "execution_count": 23,
   "metadata": {},
   "outputs": [
    {
     "ename": "OperationalError",
     "evalue": "unable to open database file",
     "output_type": "error",
     "traceback": [
      "\u001b[0;31m---------------------------------------------------------------------------\u001b[0m",
      "\u001b[0;31mOperationalError\u001b[0m                          Traceback (most recent call last)",
      "\u001b[0;32m<ipython-input-23-7f490b488166>\u001b[0m in \u001b[0;36m<module>\u001b[0;34m()\u001b[0m\n\u001b[0;32m----> 1\u001b[0;31m \u001b[0mdb\u001b[0m \u001b[0;34m=\u001b[0m \u001b[0msqlite3\u001b[0m\u001b[0;34m.\u001b[0m\u001b[0mconnect\u001b[0m\u001b[0;34m(\u001b[0m\u001b[0;34m'FGV_Programming_Langugaes/Python/Dados/chinook.sqlite.db'\u001b[0m\u001b[0;34m)\u001b[0m\u001b[0;34m\u001b[0m\u001b[0m\n\u001b[0m",
      "\u001b[0;31mOperationalError\u001b[0m: unable to open database file"
     ]
    }
   ],
   "source": [
    "db = sqlite3.connect('FGV_Programming_Langugaes/Python/Dados/chinook.sqlite.db')"
   ]
  },
  {
   "cell_type": "markdown",
   "metadata": {},
   "source": [
    "Questão 3 (3.0 pontos)  (questão desafiante!!)\n",
    "\n",
    "Com o banco de dados da questão anterior, crie um grafo utilizando o pacote networkx do Python, de modo que os artistas estejam ligados ao gênero a que pertence a maioria de suas músicas. Diferencie com atributos os nós de artista e de gênero.\n",
    "\n",
    "https://networkx.github.io/  \n",
    "https://networkx.github.io/documentation/stable/tutorial.html#directed-graphs \n",
    "https://networkx.github.io/documentation/stable/tutorial.html#adding-attributes-to-graphs-nodes-and-edges  \n",
    "https://networkx.github.io/documentation/stable/tutorial.html#drawing-graphs  "
   ]
  },
  {
   "cell_type": "code",
   "execution_count": null,
   "metadata": {
    "collapsed": true
   },
   "outputs": [],
   "source": [
    "# seu código aqui"
   ]
  },
  {
   "cell_type": "markdown",
   "metadata": {
    "collapsed": true
   },
   "source": [
    "Questão 4 (1.5 pontos) \n",
    "\n",
    "Pedro, coitado, programa em R há muitos anos, mas gostaria de migrar para Python, uma linguagem muito mais poderosa. Ajude-o a converter o código abaixo para Python:  "
   ]
  },
  {
   "cell_type": "code",
   "execution_count": null,
   "metadata": {
    "collapsed": true
   },
   "outputs": [],
   "source": [
    "countdown <- function(from)\n",
    "{\n",
    "  print(from)\n",
    "  while(from!=0)\n",
    "  {\n",
    "    Sys.sleep(1)\n",
    "    from <- from - 1\n",
    "    print(from)\n",
    "  }\n",
    "}\n",
    "\n",
    "countdown(5)"
   ]
  },
  {
   "cell_type": "code",
   "execution_count": null,
   "metadata": {
    "collapsed": true
   },
   "outputs": [],
   "source": [
    "#seu código aqui"
   ]
  },
  {
   "cell_type": "markdown",
   "metadata": {},
   "source": [
    "Questão 5 (1.5 pontos) \n",
    "\n",
    "Vitória é uma excelente programadora em C. Nos últimos tempos - mas isso ela não admitiria - tem se convencido de que Python é uma escolha mais razoável para sua vida acadêmica. Ajude-a a converter o código abaixo para Python:    "
   ]
  },
  {
   "cell_type": "code",
   "execution_count": null,
   "metadata": {
    "collapsed": true
   },
   "outputs": [],
   "source": [
    "#include <stdio.h>\n",
    "int main()\n",
    "{\n",
    "    int n, reversedInteger = 0, remainder, originalInteger;\n",
    "\n",
    "    printf(\"Enter an integer: \");\n",
    "    scanf(\"%d\", &n);\n",
    "\n",
    "    originalInteger = n;\n",
    "\n",
    "    // reversed integer is stored in variable \n",
    "    while( n!=0 )\n",
    "    {\n",
    "        remainder = n%10;\n",
    "        reversedInteger = reversedInteger*10 + remainder;\n",
    "        n /= 10;\n",
    "    }\n",
    "\n",
    "    // palindrome if orignalInteger and reversedInteger are equal\n",
    "    if (originalInteger == reversedInteger)\n",
    "        printf(\"%d is a palindrome.\", originalInteger);\n",
    "    else\n",
    "        printf(\"%d is not a palindrome.\", originalInteger);\n",
    "    \n",
    "    return 0;\n",
    "}"
   ]
  },
  {
   "cell_type": "code",
   "execution_count": 3,
   "metadata": {
    "collapsed": true
   },
   "outputs": [],
   "source": [
    "#seu código aqui"
   ]
  },
  {
   "cell_type": "markdown",
   "metadata": {},
   "source": [
    "Questão Bônus (0,5 pontos)  \n",
    "\n",
    "Alexandrino gosta muito de LISP, mas - poucos sabem - secretamente acalenta o sonho de programar em Python. \n",
    "Ajude-o a converter o código abaixo para Python:  "
   ]
  },
  {
   "cell_type": "code",
   "execution_count": null,
   "metadata": {
    "collapsed": true
   },
   "outputs": [],
   "source": [
    "(defun get-max-value (list)\n",
    "  (let ((ans (first list)))\n",
    "    (do ((i 1 (1+ i)))\n",
    "        ((>= i (length list)) ans)\n",
    "      (when (> (nth i list) ans)\n",
    "        (setf ans (nth i list))))))"
   ]
  },
  {
   "cell_type": "code",
   "execution_count": null,
   "metadata": {
    "collapsed": true
   },
   "outputs": [],
   "source": [
    "#seu código aqui"
   ]
  }
 ],
 "metadata": {
  "kernelspec": {
   "display_name": "Python 3",
   "language": "python",
   "name": "python3"
  },
  "language_info": {
   "codemirror_mode": {
    "name": "ipython",
    "version": 3
   },
   "file_extension": ".py",
   "mimetype": "text/x-python",
   "name": "python",
   "nbconvert_exporter": "python",
   "pygments_lexer": "ipython3",
   "version": "3.5.2"
  }
 },
 "nbformat": 4,
 "nbformat_minor": 1
}
