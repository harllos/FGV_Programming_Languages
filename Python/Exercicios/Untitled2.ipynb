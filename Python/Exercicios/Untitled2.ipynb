{
 "cells": [
  {
   "cell_type": "code",
   "execution_count": 1,
   "metadata": {},
   "outputs": [
    {
     "name": "stderr",
     "output_type": "stream",
     "text": [
      "SIMPLE-WARNING: \n",
      "undefined variable: ==\n",
      "\n",
      "SIMPLE-WARNING: \n",
      "undefined variable: NOVALISTA\n",
      "\n",
      "SIMPLE-WARNING: \n",
      "undefined variable: REM\n",
      "\n",
      "SIMPLE-WARNING: \n",
      "undefined variable: X\n"
     ]
    },
    {
     "data": {
      "text/plain": [
       "PARES"
      ]
     },
     "execution_count": 1,
     "metadata": {},
     "output_type": "execute_result"
    }
   ],
   "source": [
    "(defun pares (vetor)\n",
    "    (loop for x in vetor)\n",
    "        (cond (rem x 2 == 0))\n",
    "        (setq novalista (append '(x) vetor))\n",
    "        )"
   ]
  },
  {
   "cell_type": "code",
   "execution_count": null,
   "metadata": {},
   "outputs": [],
   "source": []
  }
 ],
 "metadata": {
  "kernelspec": {
   "display_name": "SBCL Lisp",
   "language": "lisp",
   "name": "clisp"
  },
  "language_info": {
   "codemirror_mode": "text/x-common-lisp",
   "mimetype": "text/x-common-lisp",
   "name": "common-lisp",
   "pygments_lexer": "common-lisp",
   "version": "X3J13"
  }
 },
 "nbformat": 4,
 "nbformat_minor": 2
}
