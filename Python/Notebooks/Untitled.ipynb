{
 "cells": [
  {
   "cell_type": "code",
   "execution_count": 32,
   "metadata": {},
   "outputs": [],
   "source": [
    "lista <- c(1:10)"
   ]
  },
  {
   "cell_type": "code",
   "execution_count": 52,
   "metadata": {},
   "outputs": [],
   "source": [
    "pares <- function(x)\n",
    "    \n",
    "    for (val in 1:length(x)){\n",
    "        y <- vector()\n",
    "        if (val%%2==0){\n",
    "        y <- c(y, x[val])\n",
    "        }\n",
    "    \n",
    "print (y)\n",
    "}\n"
   ]
  },
  {
   "cell_type": "code",
   "execution_count": 53,
   "metadata": {},
   "outputs": [
    {
     "name": "stdout",
     "output_type": "stream",
     "text": [
      "logical(0)\n",
      "[1] 2\n",
      "logical(0)\n",
      "[1] 4\n",
      "logical(0)\n",
      "[1] 6\n",
      "logical(0)\n",
      "[1] 8\n"
     ]
    }
   ],
   "source": [
    "pares(1:8)"
   ]
  },
  {
   "cell_type": "code",
   "execution_count": null,
   "metadata": {},
   "outputs": [],
   "source": []
  }
 ],
 "metadata": {
  "kernelspec": {
   "display_name": "R",
   "language": "R",
   "name": "ir"
  },
  "language_info": {
   "codemirror_mode": "r",
   "file_extension": ".r",
   "mimetype": "text/x-r-source",
   "name": "R",
   "pygments_lexer": "r",
   "version": "3.2.3"
  }
 },
 "nbformat": 4,
 "nbformat_minor": 2
}
