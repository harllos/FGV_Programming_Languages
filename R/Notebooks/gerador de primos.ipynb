{
 "cells": [
  {
   "cell_type": "code",
   "execution_count": 41,
   "metadata": {},
   "outputs": [
    {
     "ename": "ERROR",
     "evalue": "Error in 2:n: NA/NaN argument\n",
     "output_type": "error",
     "traceback": [
      "Error in 2:n: NA/NaN argument\nTraceback:\n",
      "1. Vectorize(eprimo)"
     ]
    }
   ],
   "source": [
    "eprimo  <- function(n){\n",
    "    listadeprimos <- list() \n",
    "    for (i in 2:n){\n",
    "        if (i == 2){\n",
    "            print(\"TRUE\")\n",
    "        } else if (any(i%%2:(i-1)==0)){\n",
    "            print(\"FALSE\")\n",
    "        } else{\n",
    "            print(\"TRUE\")\n",
    "        }\n",
    "    }\n",
    "}\n",
    "    eprimo <- Vectorize(eprimo)"
   ]
  },
  {
   "cell_type": "code",
   "execution_count": 40,
   "metadata": {},
   "outputs": [
    {
     "name": "stdout",
     "output_type": "stream",
     "text": [
      "[1] \"TRUE\"\n",
      "[1] \"TRUE\"\n",
      "[1] \"FALSE\"\n",
      "[1] \"TRUE\"\n",
      "[1] \"FALSE\"\n",
      "[1] \"TRUE\"\n",
      "[1] \"FALSE\"\n",
      "[1] \"FALSE\"\n",
      "[1] \"FALSE\"\n"
     ]
    }
   ],
   "source": [
    "eprimo(10)"
   ]
  },
  {
   "cell_type": "code",
   "execution_count": null,
   "metadata": {},
   "outputs": [],
   "source": [
    "listaprimo <- function()"
   ]
  }
 ],
 "metadata": {
  "kernelspec": {
   "display_name": "R",
   "language": "R",
   "name": "ir"
  },
  "language_info": {
   "codemirror_mode": "r",
   "file_extension": ".r",
   "mimetype": "text/x-r-source",
   "name": "R",
   "pygments_lexer": "r",
   "version": "3.2.3"
  }
 },
 "nbformat": 4,
 "nbformat_minor": 2
}
