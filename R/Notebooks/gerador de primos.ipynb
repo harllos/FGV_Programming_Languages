{
 "cells": [
  {
   "cell_type": "code",
   "execution_count": 86,
   "metadata": {},
   "outputs": [],
   "source": [
    "eprimo  <- function(n){\n",
    "    result <- character(0)\n",
    "    for (i in 2:n){\n",
    "        if (i == 2){\n",
    "            result[i] <- n[i]\n",
    "        } else if (any(i%%n==0)){\n",
    "            result <- \"Não Primo\"\n",
    "        } else{\n",
    "            result[i] <- n[i]\n",
    "        }\n",
    "    }\n",
    "    \n",
    "    return(result)\n",
    "}\n"
   ]
  },
  {
   "cell_type": "code",
   "execution_count": 87,
   "metadata": {},
   "outputs": [
    {
     "data": {
      "text/html": [
       "'Não Primo'"
      ],
      "text/latex": [
       "'Não Primo'"
      ],
      "text/markdown": [
       "'Não Primo'"
      ],
      "text/plain": [
       "[1] \"Não Primo\""
      ]
     },
     "metadata": {},
     "output_type": "display_data"
    }
   ],
   "source": [
    "eprimo(19)"
   ]
  },
  {
   "cell_type": "code",
   "execution_count": 20,
   "metadata": {},
   "outputs": [],
   "source": [
    "is.prime <- function(n) {\n",
    "    listadeprimos <- c()\n",
    "    \n",
    "    for (i in 2:n){\n",
    "        if (i == 2) {\n",
    "          listadeprimos <- c(listadeprimos,i)\n",
    "       } else if (any(n %% 2:(n-1) == 0)) {\n",
    "          listadeprimos <- c(listadeprimos,\"nao primo\")\n",
    "       } else { \n",
    "          listadeprimos <- c(listadeprimos,i)\n",
    "       }\n",
    "    }\n",
    "    return(listadeprimos)\n",
    "}"
   ]
  },
  {
   "cell_type": "code",
   "execution_count": 23,
   "metadata": {},
   "outputs": [
    {
     "data": {
      "text/html": [
       "<ol class=list-inline>\n",
       "\t<li>2</li>\n",
       "\t<li>3</li>\n",
       "\t<li>4</li>\n",
       "\t<li>5</li>\n",
       "\t<li>6</li>\n",
       "\t<li>7</li>\n",
       "\t<li>8</li>\n",
       "\t<li>9</li>\n",
       "\t<li>10</li>\n",
       "\t<li>11</li>\n",
       "</ol>\n"
      ],
      "text/latex": [
       "\\begin{enumerate*}\n",
       "\\item 2\n",
       "\\item 3\n",
       "\\item 4\n",
       "\\item 5\n",
       "\\item 6\n",
       "\\item 7\n",
       "\\item 8\n",
       "\\item 9\n",
       "\\item 10\n",
       "\\item 11\n",
       "\\end{enumerate*}\n"
      ],
      "text/markdown": [
       "1. 2\n",
       "2. 3\n",
       "3. 4\n",
       "4. 5\n",
       "5. 6\n",
       "6. 7\n",
       "7. 8\n",
       "8. 9\n",
       "9. 10\n",
       "10. 11\n",
       "\n",
       "\n"
      ],
      "text/plain": [
       " [1]  2  3  4  5  6  7  8  9 10 11"
      ]
     },
     "metadata": {},
     "output_type": "display_data"
    }
   ],
   "source": [
    "is.prime(11)"
   ]
  },
  {
   "cell_type": "code",
   "execution_count": null,
   "metadata": {},
   "outputs": [],
   "source": []
  }
 ],
 "metadata": {
  "kernelspec": {
   "display_name": "R",
   "language": "R",
   "name": "ir"
  },
  "language_info": {
   "codemirror_mode": "r",
   "file_extension": ".r",
   "mimetype": "text/x-r-source",
   "name": "R",
   "pygments_lexer": "r",
   "version": "3.2.3"
  }
 },
 "nbformat": 4,
 "nbformat_minor": 2
}
