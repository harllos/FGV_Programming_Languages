{
 "cells": [
  {
   "cell_type": "markdown",
   "metadata": {},
   "source": [
    "## Exercícios da seção 1.1:"
   ]
  },
  {
   "cell_type": "markdown",
   "metadata": {},
   "source": [
    "##### Exercise 1.1: \n",
    "Below is a sequence of expressions. What is the result printed by the interpreter in response to each expression? Assume that the sequence is to be evaluated in the order in which it is presented.\n",
    "\n",
    "10\n",
    "\n",
    "(+ 5 3 4) (- 9 1) (/ 6 2) (+ (* 2 4) (- 4 6)) \n",
    "\n",
    "(define a 3) \n",
    "\n",
    "(define b (+ a 1)) \n",
    "\n",
    "(+ a b (* a b))\n",
    "\n",
    "(= a b)\n",
    "\n",
    "(if (and (> b a) \n",
    "    (< b (* a b))) \n",
    "    b\n",
    "    a)\n",
    "\n",
    "(cond ((= a 4) 6) \n",
    "    ((= b 4) (+ 6 7 a)) \n",
    "    (else 25))\n",
    "\n",
    "(+ 2 (if (> b a) b a))\n",
    "\n",
    "(* (cond ((> a b) a) \n",
    "    ((< a b) b) \n",
    "    (else -1))\n",
    "    (+ a 1))\n"
   ]
  },
  {
   "cell_type": "code",
   "execution_count": 14,
   "metadata": {},
   "outputs": [
    {
     "data": {
      "text/plain": [
       "10"
      ]
     },
     "execution_count": 14,
     "metadata": {},
     "output_type": "execute_result"
    }
   ],
   "source": [
    "10"
   ]
  },
  {
   "cell_type": "code",
   "execution_count": 15,
   "metadata": {},
   "outputs": [
    {
     "data": {
      "text/plain": [
       "6"
      ]
     },
     "execution_count": 15,
     "metadata": {},
     "output_type": "execute_result"
    }
   ],
   "source": [
    "(+ 5 3 4) (- 9 1) (/ 6 2) (+ (* 2 4) (- 4 6))"
   ]
  },
  {
   "cell_type": "code",
   "execution_count": 4,
   "metadata": {},
   "outputs": [
    {
     "name": "stderr",
     "output_type": "stream",
     "text": [
      "SIMPLE-STYLE-WARNING: \n",
      "  The variable A is defined but never used.\n"
     ]
    },
    {
     "data": {
      "text/plain": [
       "OI"
      ]
     },
     "execution_count": 4,
     "metadata": {},
     "output_type": "execute_result"
    }
   ],
   "source": [
    "(defun oi (a) 3)"
   ]
  },
  {
   "cell_type": "code",
   "execution_count": null,
   "metadata": {},
   "outputs": [],
   "source": [
    "(oi 1)"
   ]
  },
  {
   "cell_type": "code",
   "execution_count": 19,
   "metadata": {},
   "outputs": [
    {
     "name": "stderr",
     "output_type": "stream",
     "text": [
      "UNBOUND-VARIABLE: \n",
      "  #<UNBOUND-VARIABLE B {10083BB923}>\n"
     ]
    },
    {
     "data": {
      "text/plain": [
       "NIL"
      ]
     },
     "execution_count": 19,
     "metadata": {},
     "output_type": "execute_result"
    }
   ],
   "source": [
    "(define b (+ a 1))"
   ]
  },
  {
   "cell_type": "code",
   "execution_count": 20,
   "metadata": {},
   "outputs": [
    {
     "name": "stderr",
     "output_type": "stream",
     "text": [
      "UNBOUND-VARIABLE: \n",
      "  #<UNBOUND-VARIABLE B {100842AF33}>\n"
     ]
    },
    {
     "data": {
      "text/plain": [
       "NIL"
      ]
     },
     "execution_count": 20,
     "metadata": {},
     "output_type": "execute_result"
    }
   ],
   "source": [
    "b"
   ]
  },
  {
   "cell_type": "code",
   "execution_count": null,
   "metadata": {},
   "outputs": [],
   "source": []
  },
  {
   "cell_type": "markdown",
   "metadata": {
    "collapsed": true
   },
   "source": [
    "##### Exercise1.2:\n",
    "Translate the following expression into preﬁx form: \n",
    "\n",
    "\n",
    "$$ \\frac{5 + 4 + (2   - (3 -( 6 + \\frac{4}{5})))}{3 (6-2) (2-7)} $$\n",
    "\n",
    "\n",
    "\n",
    "\n"
   ]
  },
  {
   "cell_type": "code",
   "execution_count": null,
   "metadata": {
    "collapsed": true
   },
   "outputs": [],
   "source": []
  },
  {
   "cell_type": "markdown",
   "metadata": {},
   "source": [
    "##### Exercise1.3: \n",
    "Deﬁne a procedure that takes three numbers as arguments and returns the sum of the squares of the two larger numbers. "
   ]
  },
  {
   "cell_type": "code",
   "execution_count": null,
   "metadata": {
    "collapsed": true
   },
   "outputs": [],
   "source": []
  },
  {
   "cell_type": "markdown",
   "metadata": {},
   "source": [
    "##### Exercise1.4:\n",
    "Observe that our model of evaluation allows for combinations whose operators are compound expressions. Use this observation to describe the behavior of the following procedure: \n",
    "\n",
    "                                        (defun a-plus-abs-b (a b)\n",
    "                                                ((if (> b 0) + -) a b))"
   ]
  },
  {
   "cell_type": "code",
   "execution_count": null,
   "metadata": {
    "collapsed": true
   },
   "outputs": [],
   "source": []
  },
  {
   "cell_type": "markdown",
   "metadata": {},
   "source": [
    "##### Exercise1.5:\n",
    "Ben Bitdiddle has invented a test to determine whether the interpreter he is faced with is using applicative order evaluation or normal-order evaluation. He deﬁnes the following two procedures: \n",
    "                                        \n",
    "                                        (defun p (p)) \n",
    "                                        \n",
    "                                        (defun test (x y) \n",
    "                                                (if (= x 0)\n",
    "                                                    0\n",
    "                                                    y))\n",
    "Then he evaluates the expression \n",
    "\n",
    "                                        (test 0 (p))\n",
    "                                        \n",
    "What behavior will Ben observe with an interpreter that uses applicative-order evaluation? What behavior will he observe with an interpreter that uses normal-order evaluation? Explain your answer. (Assume that the evaluation rule for the special form if is the same whether the interpreter is using normal or applicative order: The  predicate expression is evaluated ﬁrst, and the result determines whether to evaluate the consequent or the alternative expression.)\n",
    "\n"
   ]
  },
  {
   "cell_type": "code",
   "execution_count": null,
   "metadata": {
    "collapsed": true
   },
   "outputs": [],
   "source": []
  },
  {
   "cell_type": "markdown",
   "metadata": {},
   "source": [
    "##### Exercise1.6:\n",
    "Alyssa P. Hacker doesn’t see why if needs to be provided as a special form. “Why can’t I just deﬁne it as an ordinary procedure in terms of cond?” she asks. Alyssa’s friend Eva Lu Ator claims this can indeed be done, and she deﬁnes a new version of if:\n",
    "\n",
    "                        (defun new-if (predicate then-clause else-clause)\n",
    "                            (cond (predicate then-clause)\n",
    "                                  (else else-clause)))\n",
    "                            \n",
    "Eva demonstrates the program for Alyssa: \n",
    "        \n",
    "                                (new-if (= 2 3) 0 5)\n",
    "                                5 \n",
    "                                (new-if (= 1 1) 0 5)\n",
    "                                0\n",
    "Delighted, Alyssa uses new-if to rewrite the square-root program: \n",
    "\n",
    "                         (defun sqrt-iter (guess x) \n",
    "                             (new-if (good-enough? guess x)\n",
    "                                     guess \n",
    "                                     (sqrt-iter (improve guess x) x)))\n",
    "                                     \n",
    "What happens when Alyssa attempts to use this to compute square roots? Explain."
   ]
  },
  {
   "cell_type": "code",
   "execution_count": null,
   "metadata": {
    "collapsed": true
   },
   "outputs": [],
   "source": []
  },
  {
   "cell_type": "markdown",
   "metadata": {},
   "source": [
    "##### Exercise 1.7:\n",
    "The good-enough? test used in computing square roots will not be very eﬀective for ﬁnding the square roots of very small numbers. Also, in real computers, arithmetic operations are almost always performed with limited precision. This makes our test inadequate for very large numbers. Explain these statements, with examples showing how the test fails for small and large numbers. An alternative strategy for implementing good-enough? is to watch how guess changes from one iteration to the next and to stop when the change is a very small fraction of the guess. Design a square-root procedure that uses this kind of end test. Does this work better for small and large numbers?\n"
   ]
  },
  {
   "cell_type": "code",
   "execution_count": null,
   "metadata": {
    "collapsed": true
   },
   "outputs": [],
   "source": []
  },
  {
   "cell_type": "markdown",
   "metadata": {},
   "source": [
    "##### Exercise 1.8:  \n",
    "Newton’s method for cube roots is based on the fact that ify is an approximation to the cube root of x, then a better approximation is given by the value \n",
    "\n",
    "$$ \\frac{\\frac{x}{y^2} + 2y} {3} $$\n",
    "\n",
    "Use this formula to implement a cube-root procedure analogous to the square-root procedure."
   ]
  },
  {
   "cell_type": "code",
   "execution_count": null,
   "metadata": {
    "collapsed": true
   },
   "outputs": [],
   "source": []
  }
 ],
 "metadata": {
  "kernelspec": {
   "display_name": "SBCL Lisp",
   "language": "lisp",
   "name": "clisp"
  },
  "language_info": {
   "codemirror_mode": "text/x-common-lisp",
   "mimetype": "text/x-common-lisp",
   "name": "common-lisp",
   "pygments_lexer": "common-lisp",
   "version": "X3J13"
  }
 },
 "nbformat": 4,
 "nbformat_minor": 2
}
